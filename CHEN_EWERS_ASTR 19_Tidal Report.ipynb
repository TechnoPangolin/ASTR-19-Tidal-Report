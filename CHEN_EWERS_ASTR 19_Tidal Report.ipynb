{
 "cells": [
  {
   "cell_type": "code",
   "execution_count": 2,
   "id": "fd75e58f",
   "metadata": {},
   "outputs": [],
   "source": [
    "#required imports\n",
    "import numpy as np\n",
    "from scipy import optimize\n",
    "import matplotlib.pyplot as plt"
   ]
  },
  {
   "cell_type": "code",
   "execution_count": 3,
   "id": "d4c65c42",
   "metadata": {
    "scrolled": true
   },
   "outputs": [],
   "source": [
    "#open data file and read data\n",
    "with open(\"ASTR19_S22_group_project_data.txt\", encoding=\"utf-8\") as file:\n",
    "    raw_data = file.read()\n",
    "\n",
    "#close file when done\n",
    "file.close()"
   ]
  },
  {
   "cell_type": "code",
   "execution_count": 4,
   "id": "1c8c4370",
   "metadata": {},
   "outputs": [],
   "source": [
    "#init array to store each line\n",
    "lineArray = []\n",
    "#init place for the popped values to go\n",
    "junk = \"\"\n",
    "\n",
    "#split raw data into lines, store in prepared array\n",
    "lineArray = str.split(raw_data, \"\\n\")\n",
    "\n",
    "#remove empty strings from data\n",
    "for i in lineArray:\n",
    "    if i == \"\":\n",
    "        lineArray.remove(i)\n",
    "\n",
    "#remove header information in first three lines\n",
    "junk = lineArray.pop(0)\n",
    "junk = lineArray.pop(0)\n",
    "junk = lineArray.pop(0)"
   ]
  },
  {
   "cell_type": "code",
   "execution_count": 8,
   "id": "0694ec74",
   "metadata": {},
   "outputs": [],
   "source": [
    "#init arrays to hold components of the data\n",
    "dayArray = []\n",
    "timeArray = []\n",
    "rawDataArray = []\n",
    "hold = []\n",
    "\n",
    "#split data components and place in arrays\n",
    "for i in lineArray:\n",
    "    hold = str.split(i, \" \")\n",
    "    #this split method is not ideal, but it's been ages and all the stuff I remember is in Java.\n",
    "    #as such, this loop checks for blank strings and removes them.\n",
    "    for j in hold:\n",
    "        if j == '':\n",
    "            hold.remove('')\n",
    "    #still in the for loop, add each separated data component to the discrete arrays \n",
    "    dayArray.append(hold[0])\n",
    "    timeArray.append(hold[1])\n",
    "    rawDataArray.append(hold[2])"
   ]
  },
  {
   "cell_type": "code",
   "execution_count": 10,
   "id": "8675b3e9",
   "metadata": {},
   "outputs": [],
   "source": [
    "#init array to hold time as one value, with minutes as units\n",
    "minuteArray = []\n",
    "#init array to hold data as float rather than str\n",
    "dataArray = []\n",
    "#init a holder and counter\n",
    "temp = 0\n",
    "\n",
    "#extract hours and minutes separately, convert to minutes and sum\n",
    "for i in timeArray:\n",
    "    hold = str.split(i, \":\")\n",
    "    temp = int(hold[1]) + (60 * int(hold[0]))\n",
    "    minuteArray.append(temp)\n",
    "\n",
    "#reset for use as counter\n",
    "temp = 0\n",
    "\n",
    "for i in timeArray:\n",
    "    hold = str.split(i, \":\")\n",
    "    decimalTemp = (float(hold[0]) / 24) + ((float(hold[1]) / 24) / 60)\n",
    "    decimalDayArray[temp] = decimalDayArray[temp] + decimalTemp\n",
    "    temp = temp + 1\n",
    "\n",
    "#cast rawDataArray strings to float into new array\n",
    "for i in rawDataArray:\n",
    "    dataArray.append(float(i))"
   ]
  },
  {
   "cell_type": "code",
   "execution_count": null,
   "id": "eefac335",
   "metadata": {},
   "outputs": [
    {
     "name": "stdout",
     "output_type": "stream",
     "text": [
      "[1927, 2377, 3415, 3865, 4905, 5354, 6395, 6840, 7888, 8326, 9382, 9811, 10884, 11296, 11722, 12781, 13207, 14266, 14690, 15118, 16171, 16616, 17648, 18105, 19127, 19585, 20602, 21060, 22079, 22534, 23554, 24008, 25030, 25481, 26505, 26952, 27981, 28425, 29457, 29895, 30938, 31368, 32425, 32840, 33262, 34312, 34738, 35790, 36217, 36644, 37703, 38155, 39195, 39657, 40689, 41150, 42185, 42639, 43678, 44127, 45170, 45610, 46660, 47092, 48150, 48574, 49639, 50052, 51130, 51529, 51932, 53004, 53413, 54480, 54894, 55314, 56379, 56835, 57869, 58342, 59361, 59834]\n",
      "[6.57, -0.39, 5.38, -1.74, 5.26, -1.36, 4.13, -1.15, 3.48, -1.61, 2.62, 0.05, 1.83, 1.01, 3.57, 0.73, 4.54, 2.17, 3.76, 2.88, 3.9, 1.92, 4.73, 1.74, 5.66, 0.79, 5.33, -0.04, 5.23, -1.12, 6.67, -0.61, 4.74, -0.93, 4.69, -1.29, 4.2, 0.22, 3.68, 0.26, 2.47, 0.36, 2.59, 0.99, 4.1, 1.87, 3.17, 1.6, 3.71, 3.1, 4.04, 2.49, 4.07, 2.18, 5.93, 0.7, 6.89, 0.21, 6.72, 0.22, 6.77, -1.68, 5.77, -1.32, 4.35, -0.73, 4.23, -0.38, 2.24, -0.61, 3.45, -0.46, 4.13, 1.21, 3.34, 2.58, 3.32, 3.26, 5.21, 2.39, 4.83, 2.41]\n",
      "['1', '1', '2', '2', '3', '3', '4', '4', '5', '5', '6', '6', '7', '7', '8', '8', '9', '9', '10', '10', '11', '11', '12', '12', '13', '13', '14', '14', '15', '15', '16', '16', '17', '17', '18', '18', '19', '19', '20', '20', '21', '21', '22', '22', '23', '23', '24', '24', '25', '25', '26', '26', '27', '27', '28', '28', '29', '29', '30', '30', '31', '31', '32', '32', '33', '33', '34', '34', '35', '35', '36', '36', '37', '37', '38', '38', '39', '39', '40', '40', '41', '41']\n"
     ]
    }
   ],
   "source": [
    "print(minuteArray)\n",
    "print(dataArray)\n",
    "print(dayArray)"
   ]
  },
  {
   "cell_type": "code",
   "execution_count": 19,
   "id": "8043b473",
   "metadata": {},
   "outputs": [
    {
     "data": {
      "text/plain": [
       "[<matplotlib.lines.Line2D at 0x12423e78370>]"
      ]
     },
     "execution_count": 19,
     "metadata": {},
     "output_type": "execute_result"
    }
   ],
   "source": [
    "ax.errorbar(decimalDayArray, dataArray, yerr=.25, fmt='o')\n",
    "ax.set_xlabel('Time(days)')\n",
    "ax.set_ylabel('Tide Height(ft)')\n",
    "\n",
    "#finding line of best fit\n",
    "#a = 3.4\n",
    "#b = 2.1\n",
    "#c = 2\n",
    "sig = 0.6\n",
    "y_err = np.full(85,sig)\n",
    "\n",
    "def f_line(x, a, b, c):\n",
    "    return a * np.sin(b*x + c)\n",
    "\n",
    "params, params_cov = optimize.curve_fit(f_line, decimalDayArray, dataArray)\n",
    "\n",
    "a_fit = params[0]\n",
    "b_fit = params[1]\n",
    "c_fit = params[2]\n",
    "d_fit = params[3]\n",
    "\n",
    "#print(a_fit,b_fit,c_fit)\n",
    "#y_fit = a_fit * np.sin(b_fit * decimalDayArray + c_fit)\n",
    "\n",
    "y_fit = []\n",
    "temp = 0\n",
    "\n",
    "for i in decimalDayArray:\n",
    "    y_fit.append(a_fit * np.sin(b_fit * i) + c_fit)\n",
    "    \n",
    "ax.plot(decimalDayArray, y_fit)"
   ]
  },
  {
   "cell_type": "code",
   "execution_count": null,
   "id": "8fc78ad6",
   "metadata": {},
   "outputs": [],
   "source": []
  }
 ],
 "metadata": {
  "kernelspec": {
   "display_name": "Python 3 (ipykernel)",
   "language": "python",
   "name": "python3"
  },
  "language_info": {
   "codemirror_mode": {
    "name": "ipython",
    "version": 3
   },
   "file_extension": ".py",
   "mimetype": "text/x-python",
   "name": "python",
   "nbconvert_exporter": "python",
   "pygments_lexer": "ipython3",
   "version": "3.10.4"
  }
 },
 "nbformat": 4,
 "nbformat_minor": 5
}
