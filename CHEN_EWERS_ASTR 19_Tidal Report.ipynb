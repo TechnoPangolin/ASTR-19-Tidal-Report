{
 "cells": [
  {
   "cell_type": "code",
   "execution_count": 60,
   "id": "d4c65c42",
   "metadata": {
    "scrolled": true
   },
   "outputs": [],
   "source": [
    "#open data file and read data\n",
    "with open(\"ASTR19_S22_group_project_data.txt\", encoding=\"utf-8\") as file:\n",
    "    raw_data = file.read()\n",
    "\n",
    "#close file when done\n",
    "file.close()"
   ]
  },
  {
   "cell_type": "code",
   "execution_count": 61,
   "id": "1c8c4370",
   "metadata": {},
   "outputs": [],
   "source": [
    "#init array to store each line\n",
    "lineArray = []\n",
    "#init place for the popped values to go\n",
    "junk = \"\"\n",
    "\n",
    "#split raw data into lines, store in prepared array\n",
    "lineArray = str.split(raw_data, \"\\n\")\n",
    "\n",
    "#remove empty strings from data\n",
    "for i in lineArray:\n",
    "    if i == \"\":\n",
    "        lineArray.remove(i)\n",
    "\n",
    "#remove header information in first three lines\n",
    "junk = lineArray.pop(0)\n",
    "junk = lineArray.pop(0)\n",
    "junk = lineArray.pop(0)"
   ]
  },
  {
   "cell_type": "code",
   "execution_count": 69,
   "id": "0694ec74",
   "metadata": {},
   "outputs": [],
   "source": [
    "#init arrays to hold components of the data\n",
    "dayArray = []\n",
    "timeArray = []\n",
    "rawDataArray = []\n",
    "hold = []\n",
    "\n",
    "#split data components and place in arrays\n",
    "for i in lineArray:\n",
    "    hold = str.split(i, \" \")\n",
    "    #this split method is not ideal, but it's been ages and all the stuff I remember is in Java.\n",
    "    #as such, this loop checks for blank strings and removes them.\n",
    "    for j in hold:\n",
    "        if j == '':\n",
    "            hold.remove('')\n",
    "    #still in the for loop, add each separated data component to the discrete arrays \n",
    "    dayArray.append(hold[0])\n",
    "    timeArray.append(hold[1])\n",
    "    rawDataArray.append(hold[2])"
   ]
  },
  {
   "cell_type": "code",
   "execution_count": 74,
   "id": "8675b3e9",
   "metadata": {},
   "outputs": [],
   "source": [
    "#init array to hold time as one value, with minutes as units\n",
    "minuteArray = []\n",
    "#init array to hold data as float rather than str\n",
    "dataArray = []\n",
    "#init a holder and counter\n",
    "temp = 0\n",
    "\n",
    "#extract hours and minutes separately, convert to minutes and sum\n",
    "for i in timeArray:\n",
    "    hold = str.split(i, \":\")\n",
    "    temp = int(hold[1]) + (60 * int(hold[0]))\n",
    "    minuteArray.append(temp)\n",
    "\n",
    "#reset for use as counter\n",
    "temp = 0\n",
    "\n",
    "#convert days to minutes and add to existing minutes\n",
    "#note that it may be better in the future to cast days to float and add minutes as a decimal value of days to it\n",
    "#as this would make for an easier to read axis.\n",
    "for i in dayArray:\n",
    "    minuteArray[temp] = minuteArray[temp] + (int(i) * 24 * 60)\n",
    "    temp = temp + 1\n",
    "\n",
    "#cast rawDataArray strings to float into new array\n",
    "for i in rawDataArray:\n",
    "    dataArray.append(float(i))"
   ]
  },
  {
   "cell_type": "code",
   "execution_count": null,
   "id": "c038c880",
   "metadata": {},
   "outputs": [],
   "source": []
  }
 ],
 "metadata": {
  "kernelspec": {
   "display_name": "Python 3 (ipykernel)",
   "language": "python",
   "name": "python3"
  },
  "language_info": {
   "codemirror_mode": {
    "name": "ipython",
    "version": 3
   },
   "file_extension": ".py",
   "mimetype": "text/x-python",
   "name": "python",
   "nbconvert_exporter": "python",
   "pygments_lexer": "ipython3",
   "version": "3.10.4"
  }
 },
 "nbformat": 4,
 "nbformat_minor": 5
}
