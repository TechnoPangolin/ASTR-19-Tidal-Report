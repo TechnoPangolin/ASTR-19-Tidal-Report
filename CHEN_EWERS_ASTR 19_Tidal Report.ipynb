{
 "cells": [
  {
   "cell_type": "code",
   "execution_count": 2,
   "id": "fd75e58f",
   "metadata": {},
   "outputs": [],
   "source": [
    "#required imports\n",
    "import numpy as np\n",
    "from scipy import optimize\n",
    "import matplotlib.pyplot as plt"
   ]
  },
  {
   "cell_type": "code",
   "execution_count": 3,
   "id": "d4c65c42",
   "metadata": {
    "scrolled": true
   },
   "outputs": [],
   "source": [
    "#open data file and read data\n",
    "with open(\"ASTR19_S22_group_project_data.txt\", encoding=\"utf-8\") as file:\n",
    "    raw_data = file.read()\n",
    "\n",
    "#close file when done\n",
    "file.close()"
   ]
  },
  {
   "cell_type": "code",
   "execution_count": 4,
   "id": "1c8c4370",
   "metadata": {},
   "outputs": [],
   "source": [
    "#init array to store each line\n",
    "lineArray = []\n",
    "#init place for the popped values to go that is not terminal output\n",
    "junk = \"\"\n",
    "\n",
    "#split raw data into lines, store in prepared array\n",
    "lineArray = str.split(raw_data, \"\\n\")\n",
    "\n",
    "#remove empty strings from data\n",
    "for i in lineArray:\n",
    "    if i == \"\":\n",
    "        lineArray.remove(i)\n",
    "\n",
    "#remove header information in first three lines\n",
    "junk = lineArray.pop(0)\n",
    "junk = lineArray.pop(0)\n",
    "junk = lineArray.pop(0)"
   ]
  },
  {
   "cell_type": "code",
   "execution_count": 5,
   "id": "0694ec74",
   "metadata": {},
   "outputs": [],
   "source": [
    "#init arrays to hold components of the data\n",
    "dayArray = []\n",
    "timeArray = []\n",
    "rawDataArray = []\n",
    "hold = []\n",
    "\n",
    "#split data components and place in arrays\n",
    "for i in lineArray:\n",
    "    hold = str.split(i, \" \")\n",
    "    #this split method is not ideal, but it's been ages and all the stuff I remember is in Java.\n",
    "    #as such, this loop checks for blank strings and removes them.\n",
    "    for j in hold:\n",
    "        if j == '':\n",
    "            hold.remove('')\n",
    "    #still in the for loop, add each separated data component to the discrete arrays \n",
    "    dayArray.append(hold[0])\n",
    "    timeArray.append(hold[1])\n",
    "    rawDataArray.append(hold[2])"
   ]
  },
  {
   "cell_type": "code",
   "execution_count": 28,
   "id": "8675b3e9",
   "metadata": {},
   "outputs": [
    {
     "name": "stdout",
     "output_type": "stream",
     "text": [
      "[1.3381944444444445, 1.6506944444444445, 2.3715277777777777, 2.6840277777777777, 3.40625, 3.7180555555555554, 4.440972222222222, 4.75, 5.477777777777778, 5.781944444444444, 6.5152777777777775, 6.813194444444444, 7.558333333333334, 7.844444444444444, 8.140277777777778, 8.875694444444445, 9.171527777777778, 9.906944444444445, 10.20138888888889, 10.498611111111112, 11.229861111111111, 11.53888888888889, 12.255555555555556, 12.572916666666666, 13.282638888888888, 13.600694444444445, 14.306944444444444, 14.625, 15.332638888888889, 15.64861111111111, 16.356944444444444, 16.67222222222222, 17.381944444444443, 17.695138888888888, 18.40625, 18.716666666666665, 19.43125, 19.739583333333332, 20.45625, 20.760416666666668, 21.48472222222222, 21.783333333333335, 22.51736111111111, 22.805555555555557, 23.09861111111111, 23.82777777777778, 24.12361111111111, 24.854166666666668, 25.150694444444444, 25.447222222222223, 26.18263888888889, 26.49652777777778, 27.21875, 27.539583333333333, 28.25625, 28.57638888888889, 29.29513888888889, 29.610416666666666, 30.331944444444446, 30.64375, 31.368055555555557, 31.67361111111111, 32.40277777777778, 32.702777777777776, 33.4375, 33.731944444444444, 34.47152777777778, 34.75833333333333, 35.50694444444444, 35.78402777777778, 36.06388888888889, 36.80833333333333, 37.09236111111111, 37.833333333333336, 38.12083333333333, 38.4125, 39.15208333333333, 39.46875, 40.18680555555556, 40.515277777777776, 41.22291666666667, 41.55138888888889]\n"
     ]
    }
   ],
   "source": [
    "#initialize array to hold time data, and one to hold the data that has been cast\n",
    "decimalDayArray = []\n",
    "dataArray = []\n",
    "#init a holder and counter\n",
    "temp = 0\n",
    "\n",
    "#store time as float, with minutes and hours represented as decimal portions of days\n",
    "#cast each int day to float\n",
    "for i in dayArray:\n",
    "    decimalDayArray.append(float(i))\n",
    "\n",
    "#reset for use as counter\n",
    "temp = 0\n",
    "\n",
    "for i in timeArray:\n",
    "    hold = str.split(i, \":\")\n",
    "    decimalTemp = (float(hold[0]) / 24) + ((float(hold[1]) / 24) / 60)\n",
    "    decimalDayArray[temp] = decimalDayArray[temp] + decimalTemp\n",
    "    temp = temp + 1\n",
    "\n",
    "#cast rawDataArray strings to float into new array\n",
    "for i in rawDataArray:\n",
    "    dataArray.append(float(i))"
   ]
  },
  {
   "cell_type": "code",
   "execution_count": null,
   "id": "eefac335",
   "metadata": {},
   "outputs": [],
   "source": [
    "#plot the data by itself w/ error\n",
    "#from assignment: \"assuming the root mean squared experimental error on the height of the tide is 0.25 ft\"\n",
    "f, ax = plt.subplots()\n",
    "ax.errorbar(decimalDayArray, dataArray, yerr=.25, fmt='o')\n",
    "ax.set_xlabel('Time(days)')\n",
    "ax.set_ylabel('Tide Height(ft)')"
   ]
  },
  {
   "cell_type": "code",
   "execution_count": 30,
   "id": "8043b473",
   "metadata": {},
   "outputs": [],
   "source": [
    "#finding line of best fit\n",
    "#a = 3.4\n",
    "#b = 2.1\n",
    "#c = 2\n",
    "sig = 0.6\n",
    "y_err = np.full(85,sig)\n",
    "\n",
    "def f_line(x, a, b, c):\n",
    "    return a * np.sin(b * x + c)\n",
    "\n",
    "params, params_cov = optimize.curve_fit(f_line, decimalDayArray, dataArray)\n",
    "\n",
    "a_fit = params[0]\n",
    "b_fit = params[1]\n",
    "c_fit = params[2]\n",
    "\n",
    "#print(a_fit,b_fit,c_fit)\n",
    "#y_fit = a_fit * np.sin(b_fit * decimalDayArray + c_fit)\n",
    "\n",
    "y_fit = []\n",
    "temp = 0\n",
    "\n",
    "for i in decimalDayArray:\n",
    "    y_fit.append(a_fit * np.sin(b_fit * i) + c_fit)\n",
    "    \n",
    "ax.plot(decimalDayArray, y_fit)\n",
    "f.set_facecolor(\"white\")\n",
    "\n",
    "f.savefig(\"test output.png\", bbox_inches = \"tight\", dpi = 300)"
   ]
  },
  {
   "cell_type": "code",
   "execution_count": null,
   "id": "8fc78ad6",
   "metadata": {},
   "outputs": [],
   "source": [
    "#replot as histogram\n",
    "axHist = plt.subplot()\n",
    "\n",
    "axHist.hist(dataArray, 20)\n",
    "axHist.set_xlabel(\"Height (ft)\")\n",
    "axHist.set_ylabel(\"Frequency of occurrence\")\n",
    "\n"
   ]
  }
 ],
 "metadata": {
  "kernelspec": {
   "display_name": "Python 3 (ipykernel)",
   "language": "python",
   "name": "python3"
  },
  "language_info": {
   "codemirror_mode": {
    "name": "ipython",
    "version": 3
   },
   "file_extension": ".py",
   "mimetype": "text/x-python",
   "name": "python",
   "nbconvert_exporter": "python",
   "pygments_lexer": "ipython3",
   "version": "3.10.4"
  }
 },
 "nbformat": 4,
 "nbformat_minor": 5
}
