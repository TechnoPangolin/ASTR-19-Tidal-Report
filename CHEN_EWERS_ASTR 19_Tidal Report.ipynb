{
 "cells": [
  {
   "cell_type": "code",
   "execution_count": 29,
   "id": "fd75e58f",
   "metadata": {},
   "outputs": [],
   "source": [
    "#required imports\n",
    "import numpy as np\n",
    "from scipy import optimize\n",
    "import matplotlib.pyplot as plt"
   ]
  },
  {
   "cell_type": "code",
   "execution_count": 30,
   "id": "d4c65c42",
   "metadata": {
    "scrolled": true
   },
   "outputs": [],
   "source": [
    "#open data file and read data\n",
    "with open(\"ASTR19_S22_group_project_data.txt\", encoding=\"utf-8\") as file:\n",
    "    raw_data = file.read()\n",
    "\n",
    "#close file when done\n",
    "file.close()"
   ]
  },
  {
   "cell_type": "code",
   "execution_count": 31,
   "id": "1c8c4370",
   "metadata": {},
   "outputs": [],
   "source": [
    "#init array to store each line\n",
    "lineArray = []\n",
    "#init place for the popped values to go that is not terminal output\n",
    "junk = \"\"\n",
    "\n",
    "#split raw data into lines, store in prepared array\n",
    "lineArray = str.split(raw_data, \"\\n\")\n",
    "\n",
    "#remove empty strings from data\n",
    "for i in lineArray:\n",
    "    if i == \"\":\n",
    "        lineArray.remove(i)\n",
    "\n",
    "#remove header information in first three lines\n",
    "junk = lineArray.pop(0)\n",
    "junk = lineArray.pop(0)\n",
    "junk = lineArray.pop(0)"
   ]
  },
  {
   "cell_type": "code",
   "execution_count": 32,
   "id": "0694ec74",
   "metadata": {},
   "outputs": [],
   "source": [
    "#init arrays to hold components of the data\n",
    "dayArray = []\n",
    "timeArray = []\n",
    "rawDataArray = []\n",
    "hold = []\n",
    "\n",
    "#split data components and place in arrays\n",
    "for i in lineArray:\n",
    "    hold = str.split(i, \" \")\n",
    "    #this split method is not ideal, but it's been ages and all the stuff I remember is in Java.\n",
    "    #as such, this loop checks for blank strings and removes them.\n",
    "    for j in hold:\n",
    "        if j == '':\n",
    "            hold.remove('')\n",
    "    #still in the for loop, add each separated data component to the discrete arrays \n",
    "    dayArray.append(hold[0])\n",
    "    timeArray.append(hold[1])\n",
    "    rawDataArray.append(hold[2])"
   ]
  },
  {
   "cell_type": "code",
   "execution_count": 33,
   "id": "8675b3e9",
   "metadata": {},
   "outputs": [],
   "source": [
    "#initialize array to hold time data\n",
    "decimalDayArray = []\n",
    "#init a holder and counter\n",
    "temp = 0\n",
    "\n",
    "#store time as float, with minutes and hours represented as decimal portions of days\n",
    "#cast each int day to float\n",
    "for i in dayArray:\n",
    "    decimalDayArray.append(float(i))\n",
    "\n",
    "#reset for use as counter\n",
    "temp = 0\n",
    "\n",
    "for i in timeArray:\n",
    "    hold = str.split(i, \":\")\n",
    "    decimalTemp = (float(hold[1]) / 24) + ((float(hold[0]) / 24) / 60)\n",
    "    decimalDayArray[temp] = decimalDayArray[temp] + decimalTemp\n",
    "    temp = temp + 1\n",
    "\n",
    "#cast rawDataArray strings to float into new array\n",
    "for i in rawDataArray:\n",
    "    dataArray.append(float(i))"
   ]
  },
  {
   "cell_type": "code",
   "execution_count": null,
   "id": "eefac335",
   "metadata": {},
   "outputs": [],
   "source": [
    "#plot the data by itself w/ error\n",
    "#from assignment: \"assuming the root mean squared experimental error on the height of the tide is 0.25 ft\"\n",
    "f, ax = plt.subplots()\n",
    "ax.errorbar(decimalDayArray, dataArray, yerr=.25, fmt='o')\n",
    "ax.set_xlabel('Time(days)')\n",
    "ax.set_ylabel('Tide Height(ft)')"
   ]
  },
  {
   "cell_type": "code",
   "execution_count": null,
   "id": "8043b473",
   "metadata": {},
   "outputs": [],
   "source": [
    "#finding line of best fit\n",
    "a = 3.4\n",
    "b = 2.1\n",
    "c = 2\n",
    "sig = 0.6\n",
    "y_err = np.full(85,sig)\n",
    "\n",
    "def f_line(x, a, b, c):\n",
    "    return a * np.sin(b*x + c)\n",
    "\n",
    "params, params_cov = optimize.curve_fit(f_line, x, dataArray)\n",
    "\n",
    "a_fit = params[0]\n",
    "b_fit = params[1]\n",
    "c_fit = params[2]\n",
    "\n",
    "print(a_fit,b_fit,c_fit)\n",
    "y_fit = a_fit * np.sin(b_fit * x + c_fit) "
   ]
  },
  {
   "cell_type": "code",
   "execution_count": null,
   "id": "8fc78ad6",
   "metadata": {},
   "outputs": [],
   "source": []
  }
 ],
 "metadata": {
  "kernelspec": {
   "display_name": "Python 3 (ipykernel)",
   "language": "python",
   "name": "python3"
  },
  "language_info": {
   "codemirror_mode": {
    "name": "ipython",
    "version": 3
   },
   "file_extension": ".py",
   "mimetype": "text/x-python",
   "name": "python",
   "nbconvert_exporter": "python",
   "pygments_lexer": "ipython3",
   "version": "3.10.4"
  }
 },
 "nbformat": 4,
 "nbformat_minor": 5
}
